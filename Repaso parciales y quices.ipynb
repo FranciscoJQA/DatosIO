{
  "nbformat": 4,
  "nbformat_minor": 0,
  "metadata": {
    "colab": {
      "provenance": [],
      "authorship_tag": "ABX9TyMm4dspf6RKlMY5apszXtHY",
      "include_colab_link": true
    },
    "kernelspec": {
      "name": "python3",
      "display_name": "Python 3"
    },
    "language_info": {
      "name": "python"
    }
  },
  "cells": [
    {
      "cell_type": "markdown",
      "metadata": {
        "id": "view-in-github",
        "colab_type": "text"
      },
      "source": [
        "<a href=\"https://colab.research.google.com/github/FranciscoJQA/DatosIO/blob/main/Repaso%20parciales%20y%20quices.ipynb\" target=\"_parent\"><img src=\"https://colab.research.google.com/assets/colab-badge.svg\" alt=\"Open In Colab\"/></a>"
      ]
    },
    {
      "cell_type": "code",
      "execution_count": null,
      "metadata": {
        "colab": {
          "base_uri": "https://localhost:8080/"
        },
        "collapsed": true,
        "id": "uHiCnqn9nPPl",
        "outputId": "a0a86d04-d6bd-4ea4-b6a7-acdd92849042"
      },
      "outputs": [
        {
          "output_type": "stream",
          "name": "stdout",
          "text": [
            "Mounted at /content/drive\n",
            "        AÑO SEMESTRE TRIMESTRE       DPTO       MUNICIPIO  \\\n",
            "0      2012        I         I  Antioquia       Abejorral   \n",
            "1      2012        I         I  Antioquia            Anza   \n",
            "2      2012        I         I  Antioquia         Cáceres   \n",
            "3      2012        I         I  Antioquia          Caldas   \n",
            "4      2012        I         I  Antioquia        Caucasia   \n",
            "...     ...      ...       ...        ...             ...   \n",
            "55395  2022        I        II    Vichada    La Primavera   \n",
            "55396  2022        I        II    Vichada    La Primavera   \n",
            "55397  2022        I        II    Vichada  Puerto Carreno   \n",
            "55398  2022        I        II    Vichada  Puerto Carreno   \n",
            "55399  2022        I        II    Vichada  Puerto Carreno   \n",
            "\n",
            "                          ESPECIE TIPO PRODUCTO FUENTE  VOLUMEN M3  \n",
            "0              Eucalyptus saligna        Bloque    ICA          72  \n",
            "1                    Pinus patula        Bloque    ICA         274  \n",
            "2                  Acacia mangium        Bloque    ICA         175  \n",
            "3      Cupressus lusitanica Mill.        Bloque    ICA          60  \n",
            "4                  Acacia mangium        Bloque    ICA         220  \n",
            "...                           ...           ...    ...         ...  \n",
            "55395              Pinus caribaea       Rolliza    ICA         383  \n",
            "55396             Tectona grandis       Rolliza    ICA           5  \n",
            "55397              Acacia mangium       Rolliza    ICA         920  \n",
            "55398          Eucalyptus pellita       Rolliza    ICA        6185  \n",
            "55399     Eucalyptus tereticornis       Rolliza    ICA         886  \n",
            "\n",
            "[55400 rows x 9 columns]\n",
            "Los nombres de las columnas del DataFrame son:\n",
            "['AÑO', 'SEMESTRE', 'TRIMESTRE', 'DPTO', 'MUNICIPIO', 'ESPECIE', 'TIPO PRODUCTO', 'FUENTE', 'VOLUMEN M3']\n"
          ]
        }
      ],
      "source": [
        "import google.colab as gc\n",
        "gc.drive.mount('/content/drive')\n",
        "import numpy as np\n",
        "import pandas as pd\n",
        "ruta_maderas = '/content/drive/MyDrive/Madera_plantaciones_forestales_comerciales.xlsx'\n",
        "maderas_df = pd.read_excel (ruta_maderas, sheet_name='Produccion')\n",
        "print (maderas_df)\n",
        "print(\"Los nombres de las columnas del DataFrame son:\", \\\n",
        "      maderas_df.columns.tolist(), sep = \"\\n\")"
      ]
    },
    {
      "cell_type": "code",
      "source": [
        "import numpy as np\n",
        "import cvxpy as cvx\n",
        "\n",
        "x = cvx.Variable(nonneg = True)\n",
        "y = cvx.Variable(nonneg = True)\n",
        "\n",
        "fun = cvx.Maximize(3*x + 2*y)\n",
        "res = [\n",
        "    2*x + y <= 20,\n",
        "    4*x + 3*y <= 50,\n",
        "]\n",
        "\n",
        "prob = cvx.Problem(fun, res)\n",
        "prob.solve()\n",
        "print(\"%.2f\"% prob.value)"
      ],
      "metadata": {
        "colab": {
          "base_uri": "https://localhost:8080/"
        },
        "id": "e4eB4BTxcKiD",
        "outputId": "a01eb75c-60f9-47d3-99e7-354c69321aa2"
      },
      "execution_count": null,
      "outputs": [
        {
          "output_type": "stream",
          "name": "stdout",
          "text": [
            "35.00\n"
          ]
        }
      ]
    },
    {
      "cell_type": "code",
      "source": [
        "import cvxpy as cvx\n",
        "\n",
        "x = cvx.Variable(nonneg = True)\n",
        "y = cvx.Variable(nonneg = True)\n",
        "\n",
        "fun = cvx.Maximize(3*x + 2*y)\n",
        "res = [\n",
        "    2*x + y >= 20,\n",
        "    -4*x - 3*y >= -50,\n",
        "    ]\n",
        "pro = cvx.Problem(fun, res)\n",
        "pro.solve()\n",
        "\n",
        "xop = x.value\n",
        "yop = y.value\n",
        "\n",
        "holgura = 2*xop + yop - 20\n",
        "\n",
        "# Mostrar la holgura redondeada a cuatro decimales\n",
        "print(\"%.4f\"% holgura)"
      ],
      "metadata": {
        "colab": {
          "base_uri": "https://localhost:8080/"
        },
        "id": "dbjUGXWMv9gQ",
        "outputId": "619975f7-2dc1-4a09-f522-61066a361f69"
      },
      "execution_count": null,
      "outputs": [
        {
          "output_type": "stream",
          "name": "stdout",
          "text": [
            "5.0000\n"
          ]
        }
      ]
    },
    {
      "cell_type": "code",
      "source": [
        "import cvxpy as cvx\n",
        "x = cvx.Variable(nonneg = True)\n",
        "y = cvx.Variable(nonneg = True)\n",
        "\n",
        "obj = cvx.Minimize(3*x + 5*y)\n",
        "res = [\n",
        "    2*x + 4*y >= 20,\n",
        "    -4*x - 3*y >= -50,\n",
        "]\n",
        "prob = cvx.Problem(obj, res)\n",
        "prob.solve()\n",
        "xop = x.value\n",
        "yop = y.value\n",
        "hol = -4*xop - 3*yop + 50\n",
        "print(\"%.4f\"% hol)"
      ],
      "metadata": {
        "colab": {
          "base_uri": "https://localhost:8080/"
        },
        "id": "xykevOoKzlea",
        "outputId": "580dabe5-a07d-4df3-8756-7bd8845ddba8"
      },
      "execution_count": null,
      "outputs": [
        {
          "output_type": "stream",
          "name": "stdout",
          "text": [
            "35.0000\n"
          ]
        }
      ]
    },
    {
      "cell_type": "code",
      "source": [
        "import cvxyp as cvx\n",
        "x = cvx.Variable(nonneg = True)\n",
        "y = cvx.Variable(nonneg = True)\n",
        "\n",
        "fun = cvx.Minimize(3*x + 5*y)\n",
        "res = [\n",
        "    2*x + 4*y >=20,\n",
        "    4*x + 3*y <= 50,\n",
        "    ]\n",
        "prob = cvx.Problem(fun, res)\n",
        "prob.solve()\n",
        "xopt = x.value\n",
        "yopt = y.value\n",
        "holg = -4*xopt - 3*yopt + 50\n",
        "print(\"%.4f\"% holg)"
      ],
      "metadata": {
        "colab": {
          "base_uri": "https://localhost:8080/",
          "height": 383
        },
        "id": "YfOz3KmmMAKs",
        "outputId": "320c9f4a-2c53-4483-9fcf-33dc292e48c2"
      },
      "execution_count": null,
      "outputs": [
        {
          "output_type": "error",
          "ename": "ModuleNotFoundError",
          "evalue": "No module named 'cvxyp'",
          "traceback": [
            "\u001b[0;31m---------------------------------------------------------------------------\u001b[0m",
            "\u001b[0;31mModuleNotFoundError\u001b[0m                       Traceback (most recent call last)",
            "\u001b[0;32m<ipython-input-1-d5a127225f09>\u001b[0m in \u001b[0;36m<cell line: 1>\u001b[0;34m()\u001b[0m\n\u001b[0;32m----> 1\u001b[0;31m \u001b[0;32mimport\u001b[0m \u001b[0mcvxyp\u001b[0m \u001b[0;32mas\u001b[0m \u001b[0mcvx\u001b[0m\u001b[0;34m\u001b[0m\u001b[0;34m\u001b[0m\u001b[0m\n\u001b[0m\u001b[1;32m      2\u001b[0m \u001b[0mx\u001b[0m \u001b[0;34m=\u001b[0m \u001b[0mcvx\u001b[0m\u001b[0;34m.\u001b[0m\u001b[0mVariable\u001b[0m\u001b[0;34m(\u001b[0m\u001b[0mnonneg\u001b[0m \u001b[0;34m=\u001b[0m \u001b[0;32mTrue\u001b[0m\u001b[0;34m)\u001b[0m\u001b[0;34m\u001b[0m\u001b[0;34m\u001b[0m\u001b[0m\n\u001b[1;32m      3\u001b[0m \u001b[0my\u001b[0m \u001b[0;34m=\u001b[0m \u001b[0mcvx\u001b[0m\u001b[0;34m.\u001b[0m\u001b[0mVariable\u001b[0m\u001b[0;34m(\u001b[0m\u001b[0mnonneg\u001b[0m \u001b[0;34m=\u001b[0m \u001b[0;32mTrue\u001b[0m\u001b[0;34m)\u001b[0m\u001b[0;34m\u001b[0m\u001b[0;34m\u001b[0m\u001b[0m\n\u001b[1;32m      4\u001b[0m \u001b[0;34m\u001b[0m\u001b[0m\n\u001b[1;32m      5\u001b[0m \u001b[0mfun\u001b[0m \u001b[0;34m=\u001b[0m \u001b[0mcvx\u001b[0m\u001b[0;34m.\u001b[0m\u001b[0mMinimize\u001b[0m\u001b[0;34m(\u001b[0m\u001b[0;36m3\u001b[0m\u001b[0;34m*\u001b[0m\u001b[0mx\u001b[0m \u001b[0;34m+\u001b[0m \u001b[0;36m5\u001b[0m\u001b[0;34m*\u001b[0m\u001b[0my\u001b[0m\u001b[0;34m)\u001b[0m\u001b[0;34m\u001b[0m\u001b[0;34m\u001b[0m\u001b[0m\n",
            "\u001b[0;31mModuleNotFoundError\u001b[0m: No module named 'cvxyp'",
            "",
            "\u001b[0;31m---------------------------------------------------------------------------\u001b[0;32m\nNOTE: If your import is failing due to a missing package, you can\nmanually install dependencies using either !pip or !apt.\n\nTo view examples of installing some common dependencies, click the\n\"Open Examples\" button below.\n\u001b[0;31m---------------------------------------------------------------------------\u001b[0m\n"
          ],
          "errorDetails": {
            "actions": [
              {
                "action": "open_url",
                "actionText": "Open Examples",
                "url": "/notebooks/snippets/importing_libraries.ipynb"
              }
            ]
          }
        }
      ]
    },
    {
      "cell_type": "code",
      "source": [
        "import numpy as np\n",
        "import cvxpy as cvx\n",
        "\n",
        "arrx = cvx.Variable((2,1))\n",
        "arrc = np.array([5,3])\n",
        "\n",
        "fun = cvx.Maximize(arrc @ arrx)\n",
        "arrt = np.array([[3,7],[-11,-5],[1,0],[0,1]])\n",
        "\n",
        "arrres = np.array([[57],[-151],[0],[0]])\n",
        "\n",
        "res = [arrt @ arrx >= arrres]\n",
        "prob = cvx.Problem(fun,res)\n",
        "prob.solve()\n",
        "xopt = x.value\n",
        "yopt = y.value\n",
        "holg = 3*xopt + 7*yopt -57\n",
        "print(\"%.4f\"% holg)\n"
      ],
      "metadata": {
        "colab": {
          "base_uri": "https://localhost:8080/",
          "height": 211
        },
        "id": "GbimmEBm29D7",
        "outputId": "21b26319-79bc-4dc4-88ac-a11fdb6ebc96"
      },
      "execution_count": null,
      "outputs": [
        {
          "output_type": "error",
          "ename": "NameError",
          "evalue": "name 'x' is not defined",
          "traceback": [
            "\u001b[0;31m---------------------------------------------------------------------------\u001b[0m",
            "\u001b[0;31mNameError\u001b[0m                                 Traceback (most recent call last)",
            "\u001b[0;32m<ipython-input-7-6d12507263b6>\u001b[0m in \u001b[0;36m<cell line: 15>\u001b[0;34m()\u001b[0m\n\u001b[1;32m     13\u001b[0m \u001b[0mprob\u001b[0m \u001b[0;34m=\u001b[0m \u001b[0mcvx\u001b[0m\u001b[0;34m.\u001b[0m\u001b[0mProblem\u001b[0m\u001b[0;34m(\u001b[0m\u001b[0mfun\u001b[0m\u001b[0;34m,\u001b[0m\u001b[0mres\u001b[0m\u001b[0;34m)\u001b[0m\u001b[0;34m\u001b[0m\u001b[0;34m\u001b[0m\u001b[0m\n\u001b[1;32m     14\u001b[0m \u001b[0mprob\u001b[0m\u001b[0;34m.\u001b[0m\u001b[0msolve\u001b[0m\u001b[0;34m(\u001b[0m\u001b[0;34m)\u001b[0m\u001b[0;34m\u001b[0m\u001b[0;34m\u001b[0m\u001b[0m\n\u001b[0;32m---> 15\u001b[0;31m \u001b[0mxopt\u001b[0m \u001b[0;34m=\u001b[0m \u001b[0mx\u001b[0m\u001b[0;34m.\u001b[0m\u001b[0mvalue\u001b[0m\u001b[0;34m\u001b[0m\u001b[0;34m\u001b[0m\u001b[0m\n\u001b[0m\u001b[1;32m     16\u001b[0m \u001b[0myopt\u001b[0m \u001b[0;34m=\u001b[0m \u001b[0my\u001b[0m\u001b[0;34m.\u001b[0m\u001b[0mvalue\u001b[0m\u001b[0;34m\u001b[0m\u001b[0;34m\u001b[0m\u001b[0m\n\u001b[1;32m     17\u001b[0m \u001b[0mholg\u001b[0m \u001b[0;34m=\u001b[0m \u001b[0;36m3\u001b[0m\u001b[0;34m*\u001b[0m\u001b[0mxopt\u001b[0m \u001b[0;34m+\u001b[0m \u001b[0;36m7\u001b[0m\u001b[0;34m*\u001b[0m\u001b[0myopt\u001b[0m \u001b[0;34m-\u001b[0m\u001b[0;36m57\u001b[0m\u001b[0;34m\u001b[0m\u001b[0;34m\u001b[0m\u001b[0m\n",
            "\u001b[0;31mNameError\u001b[0m: name 'x' is not defined"
          ]
        }
      ]
    },
    {
      "cell_type": "code",
      "source": [
        "import numpy as np\n",
        "import cvxpy as cvx\n",
        "\n",
        "arrx = cvx.Variable((2,1))\n",
        "arrc = np.array([3,5])\n",
        "\n",
        "fun = cvx.Maximize(arrc @ arrx)\n",
        "coetec = np.array([[3,7],[-11,-5],[1,0],[0,1]])\n",
        "\n",
        "coeres = np.array([[57],[-151],[0],[0]])\n",
        "res = [coetec @ arrx >= coeres]\n",
        "\n",
        "prob = cvx.Problem(fun,res)\n",
        "prob.solve()\n",
        "\n",
        "xopti = arrx.value\n",
        "\n",
        "holg = coetec[0] @ xopti - coeres[0]\n",
        "print(\"%.4f\"% holg)"
      ],
      "metadata": {
        "colab": {
          "base_uri": "https://localhost:8080/"
        },
        "id": "ZbXH4R7NX0QC",
        "outputId": "2f716e80-5b3e-4cbc-d849-320214bfb9cc"
      },
      "execution_count": null,
      "outputs": [
        {
          "output_type": "stream",
          "name": "stdout",
          "text": [
            "154.4000\n"
          ]
        },
        {
          "output_type": "stream",
          "name": "stderr",
          "text": [
            "<ipython-input-10-359775679f6f>:19: DeprecationWarning: Conversion of an array with ndim > 0 to a scalar is deprecated, and will error in future. Ensure you extract a single element from your array before performing this operation. (Deprecated NumPy 1.25.)\n",
            "  print(\"%.4f\"% holg)\n"
          ]
        }
      ]
    },
    {
      "cell_type": "code",
      "source": [
        "import numpy as np\n",
        "import cvxpy as cvx\n",
        "\n",
        "arrx = cvx.Variable((2,1))\n",
        "arrc = np.array([5,3])\n",
        "\n",
        "fun = cvx.Maximize(arrc @ arrx)\n",
        "arretec = np.array([[3,7],[-11,-5],[1,0],[0,1]])\n",
        "\n",
        "arreres = np.array([[57],[-151],[0],[0]])\n",
        "res = [arretec @ arrx >= arreres]\n",
        "\n",
        "prob = cvx.Problem(fun, res)\n",
        "prob.solve()\n",
        "xopt = arrx.value\n",
        "hlg = arretec[0] @ xopt - arreres[0]\n",
        "print(\"%.4f\"% hlg)"
      ],
      "metadata": {
        "colab": {
          "base_uri": "https://localhost:8080/"
        },
        "id": "2OWwrGcbPYn6",
        "outputId": "3884cf1d-3dcd-49a5-e1a8-47966c3b5e0c"
      },
      "execution_count": null,
      "outputs": [
        {
          "output_type": "stream",
          "name": "stdout",
          "text": [
            "154.3999\n"
          ]
        },
        {
          "output_type": "stream",
          "name": "stderr",
          "text": [
            "<ipython-input-3-ae6cb8a1e4d3>:17: DeprecationWarning: Conversion of an array with ndim > 0 to a scalar is deprecated, and will error in future. Ensure you extract a single element from your array before performing this operation. (Deprecated NumPy 1.25.)\n",
            "  print(\"%.4f\"% hlg)\n"
          ]
        }
      ]
    },
    {
      "cell_type": "code",
      "source": [
        "import numpy as np\n",
        "import cvxpy as cvx\n",
        "\n",
        "arrx = cvx.Variable((2,1))\n",
        "arrc = np.array([5,2])\n",
        "\n",
        "fun = cvx.Minimize(arrc @ arrx)\n",
        "arretec = np.array([[3,7],[-11,-13],[1,0],[0,1]])\n",
        "\n",
        "arreres = np.array([[29],[-151],[0],[0]])\n",
        "res = [arretec @ arrx >= arreres]\n",
        "\n",
        "prob = cvx.Problem(fun, res)\n",
        "prob.solve()\n",
        "\n",
        "xopt = arrx.value\n",
        "holg = arretec[1] @ xopt - arreres[1]\n",
        "print(\"%.4f\"% holg)"
      ],
      "metadata": {
        "colab": {
          "base_uri": "https://localhost:8080/"
        },
        "id": "YJ1rw-UcSIhu",
        "outputId": "949f0c79-f1f5-43fa-b36d-caaaa992ca81"
      },
      "execution_count": null,
      "outputs": [
        {
          "output_type": "stream",
          "name": "stdout",
          "text": [
            "97.1429\n"
          ]
        },
        {
          "output_type": "stream",
          "name": "stderr",
          "text": [
            "<ipython-input-7-f169d5edd626>:18: DeprecationWarning: Conversion of an array with ndim > 0 to a scalar is deprecated, and will error in future. Ensure you extract a single element from your array before performing this operation. (Deprecated NumPy 1.25.)\n",
            "  print(\"%.4f\"% holg)\n"
          ]
        }
      ]
    },
    {
      "cell_type": "code",
      "source": [
        "import numpy as np\n",
        "import cvxpy as cvx\n",
        "\n",
        "arrx = cvx.Variable((2,1))\n",
        "arrc = np.array([5,3])\n",
        "\n",
        "fun = cvx.Maximize(arrc @ arrx)\n",
        "coetec = np.array([[3,7],[-11,-5],[1,0],[0,1]])\n",
        "\n",
        "coeres = np.array([[57],[-151],[0],[0]])\n",
        "re = [coetec @ arrx >= coeres]\n",
        "\n",
        "prob = cvx.Problem(fun,re)\n",
        "prob.solve()\n",
        "\n",
        "xopti = arrx.value\n",
        "\n",
        "holg = coetec[0] @ xopti - coeres[0]\n",
        "print(\"%.4f\"% holg)"
      ],
      "metadata": {
        "colab": {
          "base_uri": "https://localhost:8080/"
        },
        "id": "KxGbvYUCd8dF",
        "outputId": "0a164822-3ba8-4197-8b9a-21353da3af1e"
      },
      "execution_count": null,
      "outputs": [
        {
          "output_type": "stream",
          "name": "stdout",
          "text": [
            "154.3999\n"
          ]
        },
        {
          "output_type": "stream",
          "name": "stderr",
          "text": [
            "<ipython-input-19-a78258561fec>:19: DeprecationWarning: Conversion of an array with ndim > 0 to a scalar is deprecated, and will error in future. Ensure you extract a single element from your array before performing this operation. (Deprecated NumPy 1.25.)\n",
            "  print(\"%.4f\"% holg)\n"
          ]
        }
      ]
    },
    {
      "cell_type": "code",
      "source": [
        "import numpy as np\n",
        "import cvxpy as cvx\n",
        "\n",
        "arrx = cvx.Variable((2,1))\n",
        "arrc = np.array([5,2])\n",
        "\n",
        "fun = cvx.Minimize(arrc @ arrx)\n",
        "coetec = np.array([[3,7],[-11,-13],[1,0],[0,1]])\n",
        "\n",
        "coeres = np.array([[29],[-151],[0],[0]])\n",
        "re = [coetec @ arrx >= coeres]\n",
        "\n",
        "prob = cvx.Problem(fun,re)\n",
        "prob.solve()\n",
        "\n",
        "xopti = arrx.value\n",
        "\n",
        "holg = coetec[1] @ xopti - coeres[1]\n",
        "print(\"%.4f\"% holg)"
      ],
      "metadata": {
        "colab": {
          "base_uri": "https://localhost:8080/"
        },
        "id": "CmTn775MeCTc",
        "outputId": "cee9d0f2-35a4-4e26-e18b-d4d84e193c42"
      },
      "execution_count": null,
      "outputs": [
        {
          "output_type": "stream",
          "name": "stdout",
          "text": [
            "97.1429\n"
          ]
        },
        {
          "output_type": "stream",
          "name": "stderr",
          "text": [
            "<ipython-input-22-be75bcb632c3>:19: DeprecationWarning: Conversion of an array with ndim > 0 to a scalar is deprecated, and will error in future. Ensure you extract a single element from your array before performing this operation. (Deprecated NumPy 1.25.)\n",
            "  print(\"%.4f\"% holg)\n"
          ]
        }
      ]
    },
    {
      "cell_type": "code",
      "source": [],
      "metadata": {
        "id": "MHyedsMtf9Db"
      },
      "execution_count": null,
      "outputs": []
    },
    {
      "cell_type": "code",
      "source": [
        "import numpy as np\n",
        "import cvxpy as cvx\n",
        "\n",
        "arrx = cvx.Variable((2,1))\n",
        "arrc = np.array([5,2])\n",
        "\n",
        "fun = cvx.Maximize(arrc @ arrx)\n",
        "arrt = np.array([[3,7],[-11,-5],[1,0],[0,1]])\n",
        "\n",
        "arrres = np.array([[29],[-151],[0],[0]])\n",
        "\n",
        "res = [arrt @ arrx >= arrres]\n",
        "prob = cvx.Problem(fun,res)\n",
        "prob.solve()\n",
        "xopt = x.value\n",
        "yopt = y.value\n",
        "holg = -11*xopt - 13*yopt +57\n",
        "print(\"%.4f\"% holg)\n"
      ],
      "metadata": {
        "colab": {
          "base_uri": "https://localhost:8080/"
        },
        "id": "cV-qR9KR7DYS",
        "outputId": "de188006-e834-4f94-843e-a6436ceac96c"
      },
      "execution_count": null,
      "outputs": [
        {
          "output_type": "stream",
          "name": "stdout",
          "text": [
            "-8.0000\n"
          ]
        }
      ]
    },
    {
      "cell_type": "code",
      "source": [
        "import cvxpy as cvx\n",
        "x = cvx.Variable(nonneg = True)\n",
        "y = cvx.Variable(nonneg = True)\n",
        "\n",
        "obj = cvx.Minimize(3*x +2*y)\n",
        "re = [\n",
        "    2*x + y >= 20,\n",
        "    4*x + 3*y <= 50,\n",
        "\n",
        "]\n",
        "prob = cvx.Problem(obj,re)\n",
        "prob.solve()\n",
        "print(\"%.2f\"% prob.value)"
      ],
      "metadata": {
        "colab": {
          "base_uri": "https://localhost:8080/"
        },
        "id": "jQKKR0xqdxh9",
        "outputId": "a85855c3-b7c6-46c4-8572-fce18b75ccb7"
      },
      "execution_count": null,
      "outputs": [
        {
          "output_type": "stream",
          "name": "stdout",
          "text": [
            "30.00\n"
          ]
        }
      ]
    },
    {
      "cell_type": "code",
      "source": [
        "import numpy as np\n",
        "import cvxpy as cvx\n",
        "arr_x = cvx.Variable((2,1))\n",
        "arr_c = np.array([5,3])\n",
        "\n",
        "funobj = cvx.Maximize(arr_c @ arr_x)\n",
        "arrtec = np.array([[-3,-7],[-11,-13],[1,0],[0,1]])\n",
        "\n",
        "arrres = np.array([[-57],[-151],[0],[0]])\n",
        "res = [arrtec @ arr_x >= arrres]\n",
        "\n",
        "pro = cvx.Problem(funobj, res)\n",
        "pro.solve()\n",
        "print(\"%.2f\"% pro.value)\n"
      ],
      "metadata": {
        "colab": {
          "base_uri": "https://localhost:8080/"
        },
        "id": "aoHANCLufG0P",
        "outputId": "9de1ae89-a5de-481b-87a1-c0bbfba48be4"
      },
      "execution_count": null,
      "outputs": [
        {
          "output_type": "stream",
          "name": "stdout",
          "text": [
            "68.64\n"
          ]
        }
      ]
    },
    {
      "cell_type": "code",
      "source": [
        "import cvxpy as cvx\n",
        "\n",
        "x = cvx.Variable(nonneg = True)\n",
        "y = cvx.Variable(nonneg = True)\n",
        "\n",
        "fun = cvx.Maximize(3*x + 2*y)\n",
        "res = [\n",
        "    2*x + y >= 20,\n",
        "    -4*x - 3*y >= -50,\n",
        "    ]\n",
        "pro = cvx.Problem(fun, res)\n",
        "pro.solve()\n",
        "print(\"%.4f\"% pro.value)"
      ],
      "metadata": {
        "colab": {
          "base_uri": "https://localhost:8080/"
        },
        "id": "jcxVJwkOmi51",
        "outputId": "8bdf6431-d59b-4f22-8997-36e93648c745"
      },
      "execution_count": null,
      "outputs": [
        {
          "output_type": "stream",
          "name": "stdout",
          "text": [
            "37.5000\n"
          ]
        }
      ]
    },
    {
      "cell_type": "code",
      "source": [
        "import numpy as np\n",
        "import cvxpy as cvx\n",
        "\n",
        "arrx = cvx.Variable((2,1))\n",
        "arrc = np.array([5,3])\n",
        "\n",
        "fun = cvx.Minimize(arrc @ arrx)\n",
        "arrtec = np.array([[3,7],[-11,-13],[1,0],[0,1]])\n",
        "\n",
        "arreres = np.array([[29],[-151],[0],[0]])\n",
        "res = [arrtec @ arrx >= arreres]\n",
        "\n",
        "pro = cvx.Problem(fun, res)\n",
        "pro.solve()\n",
        "print(\"%.2f\"% pro.value)"
      ],
      "metadata": {
        "colab": {
          "base_uri": "https://localhost:8080/"
        },
        "id": "at0h5XSnjW3I",
        "outputId": "d819ac75-245e-4497-d276-6512dec63b50"
      },
      "execution_count": null,
      "outputs": [
        {
          "output_type": "stream",
          "name": "stdout",
          "text": [
            "12.43\n"
          ]
        }
      ]
    },
    {
      "cell_type": "code",
      "source": [
        "import numpy as np\n",
        "import cvxpy as cvx\n",
        "arrx = cvx.Variable((2,1))\n",
        "arrcc = np.array([5,3])\n",
        "\n",
        "fun = cvx.Minimize(arrcc @ arrx)\n",
        "arrtec = np.array([[3,7],[-11,-13],[1,0],[0,1]])\n",
        "\n",
        "arreres = np.array([[29],[-151],[0],[0]])\n",
        "\n",
        "res = [arrtec @ arrx >= arreres]\n",
        "p = cvx.Problem(fun,res)\n",
        "p.solve()\n",
        "print(\"%.2f\"% p.value)"
      ],
      "metadata": {
        "colab": {
          "base_uri": "https://localhost:8080/"
        },
        "id": "NLeZ-BXUuxcF",
        "outputId": "485cf143-92db-4d70-ad17-1f4998d09e96"
      },
      "execution_count": null,
      "outputs": [
        {
          "output_type": "stream",
          "name": "stdout",
          "text": [
            "12.43\n"
          ]
        }
      ]
    },
    {
      "cell_type": "code",
      "source": [
        "from google.colab import drive\n",
        "drive.mount('/content/drive')"
      ],
      "metadata": {
        "colab": {
          "base_uri": "https://localhost:8080/"
        },
        "id": "qNYvtT6xLYyR",
        "outputId": "cef6cab0-b6a6-4f30-a752-c31e19971123"
      },
      "execution_count": null,
      "outputs": [
        {
          "output_type": "stream",
          "name": "stdout",
          "text": [
            "Drive already mounted at /content/drive; to attempt to forcibly remount, call drive.mount(\"/content/drive\", force_remount=True).\n"
          ]
        }
      ]
    },
    {
      "cell_type": "code",
      "source": [
        "import cvxpy as cvx\n",
        "#variable de desicion\n",
        "x = cvx.Variable(nonneg = True)\n",
        "y = cvx.Variable(nonneg = True)\n",
        "#definir funcion objetivo\n",
        "fun_obj_00 = cvx.Maximize(3*x + 2*y)\n",
        "#definir restricciones\n",
        "restr_00 = [\n",
        "    -2*x - y >= -20,\n",
        "    -4*x - 3*y >= -50,\n",
        "\n",
        "]\n",
        "\n",
        "#configurar problema\n",
        "probl = cvx.Problem(fun_obj_00,restr_00)\n",
        "#obtenr valor optimo\n",
        "probl.solve()\n",
        "#obtener estado de la solucion\n",
        "print(\"estado de la solucion:\", probl.status)\n",
        "print(\"valor optimo de la funcion objtivo:\", \"%.2f\"% probl.value)\n",
        "print(\"valores optimos de las variables de desicion:\", \"%.2f\"% x.value,\"%.2f\"% y.value)"
      ],
      "metadata": {
        "colab": {
          "base_uri": "https://localhost:8080/"
        },
        "id": "nhsY9fIAND9W",
        "outputId": "11c88bfa-2ddf-4abb-c440-bc27da0a4058"
      },
      "execution_count": null,
      "outputs": [
        {
          "output_type": "stream",
          "name": "stdout",
          "text": [
            "estado de la solucion: optimal\n",
            "valor optimo de la funcion objtivo: 35.00\n",
            "valores optimos de las variables de desicion: 5.00 10.00\n"
          ]
        }
      ]
    },
    {
      "cell_type": "code",
      "source": [
        "import cvxpy as cvx\n",
        "#definir variables de desicion y no negatividad\n",
        "x = cvx.Variable(nonneg = True)\n",
        "y = cvx.Variable(nonneg = True)\n",
        "\n",
        "#funcion objetivo\n",
        "fun_001 = cvx.Minimize(3*x + 2*y)\n",
        "#restricciones\n",
        "res_001 = [\n",
        "    2*x + y >= 20,\n",
        "    -4*x - 3*y >= -50,\n",
        "]\n",
        "#configurar problema\n",
        "prob_001 = cvx.Problem(fun_001,res_001)\n",
        "#valor optimo\n",
        "prob_001.solve()\n",
        "#imprimir valores\n",
        "print(prob_001.status)\n",
        "print(\"%.2f\"% prob_001.value)\n",
        "print(\"%.2f\"% x.value, \"%.2f\"% y.value)"
      ],
      "metadata": {
        "colab": {
          "base_uri": "https://localhost:8080/"
        },
        "id": "_R6ePArFYLnY",
        "outputId": "c39b7e27-d87c-4f05-b3f5-d959f93bd1d3"
      },
      "execution_count": null,
      "outputs": [
        {
          "output_type": "stream",
          "name": "stdout",
          "text": [
            "optimal\n",
            "30.00\n",
            "10.00 0.00\n"
          ]
        }
      ]
    },
    {
      "cell_type": "code",
      "source": [
        "import cvxpy as cvx\n",
        "x= cvx.Variable(nonneg = True)\n",
        "y= cvx.Variable(nonneg = True)\n",
        "\n",
        "fun = cvx.Maximize(3*x + 2*y)\n",
        "res = [\n",
        "    2*x + y <= 20\n",
        "    4*x + 3*y <= 50\n",
        "    ]\n",
        "prob = cvx.Problem(fun,res)\n",
        "prob.solve()\n",
        "print(\"%.2f\"% prob.value)"
      ],
      "metadata": {
        "colab": {
          "base_uri": "https://localhost:8080/",
          "height": 106
        },
        "id": "PrN33Y74dNYU",
        "outputId": "cd18e27d-00c2-482d-9e5e-64f9c4b7a423"
      },
      "execution_count": null,
      "outputs": [
        {
          "output_type": "error",
          "ename": "SyntaxError",
          "evalue": "invalid syntax. Perhaps you forgot a comma? (<ipython-input-1-76856b697f27>, line 7)",
          "traceback": [
            "\u001b[0;36m  File \u001b[0;32m\"<ipython-input-1-76856b697f27>\"\u001b[0;36m, line \u001b[0;32m7\u001b[0m\n\u001b[0;31m    2*x + y <= 20\u001b[0m\n\u001b[0m    ^\u001b[0m\n\u001b[0;31mSyntaxError\u001b[0m\u001b[0;31m:\u001b[0m invalid syntax. Perhaps you forgot a comma?\n"
          ]
        }
      ]
    },
    {
      "cell_type": "code",
      "source": [
        "import cvxpy as cvx\n",
        "#definir variables de desicion y no negatividad\n",
        "x = cvx.Variable(nonneg = True)\n",
        "y= cvx.Variable(nonneg= True)\n",
        "\n",
        "#definir funcion objetivo\n",
        "funobj = cvx.Minimize(3*x + 2*y)\n",
        "#definir restricciones\n",
        "rest = [\n",
        "    2*x + y >= 20,\n",
        "    -4*x -3*y >= -50\n",
        "    ]\n",
        "#configurar funcion problema\n",
        "problema = cvx.Problem(funobj, rest)\n",
        "#valor optimo de la fucion\n",
        "problema.solve()\n",
        "print(\"%.2f\"% problema.value)"
      ],
      "metadata": {
        "colab": {
          "base_uri": "https://localhost:8080/"
        },
        "id": "R4yCGNZA_avr",
        "outputId": "d60ade88-1f82-46ad-f8cf-acf6749a7834"
      },
      "execution_count": null,
      "outputs": [
        {
          "output_type": "stream",
          "name": "stdout",
          "text": [
            "30.00\n"
          ]
        }
      ]
    },
    {
      "cell_type": "code",
      "source": [
        "import cvxpy as cvx\n",
        "#definir variables a optimizar\n",
        "arr1_x = cvx.Variable((2,1))\n",
        "#arreglo coeficientes de costos\n",
        "arr_c = [[5],[3]]\n",
        "#definir funcion\n",
        "fun = cvx.Maximize(arr_c @ arr1_x)\n",
        "#arreglo coeficientes tecnicos\n",
        "arr_Tec = [[-3,-11,1,0],[-7,-13,0,1]]\n",
        "#arreglo condiciones\n",
        "arrecond = [[-57,-151,0,0]]\n",
        "#restricciones\n",
        "arre_rest = [arr_Tec @ arr1_x >= arrecond]\n",
        "#configurar problema\n",
        "probl = cvx.Problem(fun,arre_rest)\n",
        "probl.solve()\n",
        "print(\"%.2f\"%probl.value,\"\\n\")\n",
        "#mostrar valor optimo de las variables de desicion matricial\n",
        "print(arr_00[0].value, arr_00[1].value,\"\\n\")"
      ],
      "metadata": {
        "colab": {
          "base_uri": "https://localhost:8080/"
        },
        "id": "gmHSJoTGAQ-4",
        "outputId": "144ff486-9a1d-4d29-c57a-a0e83c42895b"
      },
      "execution_count": null,
      "outputs": [
        {
          "output_type": "stream",
          "name": "stdout",
          "text": [
            "68.64 \n",
            "\n",
            "[13.72727272] [5.47821383e-09] \n",
            "\n"
          ]
        }
      ]
    },
    {
      "cell_type": "code",
      "source": [
        "#forma matricial\n",
        "import cvxpy as cvx\n",
        "#crear un arreglo cn variables a optimizar\n",
        "arr_00 = cvx.Variable((2,1))\n",
        "#crear arreglo con los coeficientes de los costos\n",
        "arr_co = [[5],[3]]\n",
        "# definir funcion objetivo\n",
        "objetive_arreglo = cvx.Maximize(arr_co @ arr_00)\n",
        "#establecer el coeficiente de los arreglos tecnicos\n",
        "arregloA = [[-3,-11,1,0],[-7,-13,0,1]]\n",
        "#arreglo con condiciones\n",
        "arregloB = [[-57,-151,0,0]]\n",
        "#establecer restricciones en forma matricial\n",
        "arr_restr = [arregloA @ arr_00 >= arregloB]\n",
        "# configurar el problema\n",
        "problema3 = cvx.Problem(objetive_arreglo, arr_restr)\n",
        "# obtenr valor optimo\n",
        "problema3.solve()\n",
        "#mostar el estado de la solucion\n",
        "print(problema3.status)\n",
        "#mostrar valor optimo de la funcion objetivo\n",
        "print(problema3.value)\n",
        "#mostrar valor optimo de las variables de desicion matricial\n",
        "print(arr_00[0].value, arr_00[1].value,\"\\n\")\n",
        "\n",
        "\n"
      ],
      "metadata": {
        "colab": {
          "base_uri": "https://localhost:8080/"
        },
        "id": "g4egAgmfcMpJ",
        "outputId": "0e06cbdf-31d8-46cd-a6a7-032ccdb536cb"
      },
      "execution_count": null,
      "outputs": [
        {
          "output_type": "stream",
          "name": "stdout",
          "text": [
            "optimal\n",
            "68.6363635980102\n",
            "[13.72727272] [5.47821383e-09] \n",
            "\n"
          ]
        }
      ]
    },
    {
      "cell_type": "code",
      "source": [
        "#Resolver de forma matricial\n",
        "import cvxpy as cvx\n",
        "#definir arreglo variables a optimizar\n",
        "arr_x = cvx.Variable((2,1))\n",
        "#definir arreglo de coeficientes de costos\n",
        "arr_c = [[5],[3]]\n",
        "# funcion objetivo\n",
        "fun004 = cvx.Minimize(arr_c @ arr_x)\n",
        "#definir variables de coeficientes tecnicos\n",
        "arrA = [[3,-11,1,0],[7,-13,0,1]]\n",
        "#definir arreglo condiciones\n",
        "arrB = [[29,-151,0,0]]\n",
        "#restricciones en forma matricial\n",
        "arr_rest = [arrA @ arr_x >= arrB]\n",
        "#configuar problema\n",
        "problema4 = cvx.Problem(fun004,arr_rest)\n",
        "# obtenr valor optimo\n",
        "problema4.solve()\n",
        "#mostar el estado de la solucion\n",
        "print(problema4.status)\n",
        "#mostrar valor optimo de la funcion objetivo\n",
        "print(problema4.value)\n",
        "#mostrar valor optimo de las variables de desicion matricial\n",
        "print(arr_x[0].value, arr_x[1].value,\"\\n\")"
      ],
      "metadata": {
        "colab": {
          "base_uri": "https://localhost:8080/"
        },
        "id": "DcPv3E9sjEj2",
        "outputId": "a9af79f0-f825-4071-aa43-adc2529c6f13"
      },
      "execution_count": null,
      "outputs": [
        {
          "output_type": "stream",
          "name": "stdout",
          "text": [
            "optimal\n",
            "12.428571430171901\n",
            "[1.97642145e-10] [4.14285714] \n",
            "\n"
          ]
        }
      ]
    },
    {
      "cell_type": "code",
      "source": [
        "import cvxpy as cvx\n",
        "#definir variables a optimizar\n",
        "arr1_x = cvx.Variable((2,1))\n",
        "#arreglo coeficientes de costos\n",
        "arr_c = [[5],[3]]\n",
        "#definir funcion\n",
        "fun = cvx.Maximize(arr_c @ arr1_x)\n",
        "#arreglo coeficientes tecnicos\n",
        "arr_Tec = [[-3,-11,1,0],[-7,-13,0,1]]\n",
        "#arreglo condiciones\n",
        "arrecond = [[-57,-151,0,0]]\n",
        "#restricciones\n",
        "arre_rest = [arr_Tec @ arr1_x >= arrecond]\n",
        "#configurar problema\n",
        "probl = cvx.Problem(fun,arre_rest)\n",
        "probl.solve()\n",
        "print(\"%.2f\"%probl.value,\"\\n\")"
      ],
      "metadata": {
        "colab": {
          "base_uri": "https://localhost:8080/"
        },
        "id": "S5txBlzm6dmi",
        "outputId": "50f5c348-0ab6-47fc-f16d-4227f18315d2"
      },
      "execution_count": null,
      "outputs": [
        {
          "output_type": "stream",
          "name": "stdout",
          "text": [
            "68.64 \n",
            "\n"
          ]
        },
        {
          "output_type": "stream",
          "name": "stderr",
          "text": [
            "/usr/local/lib/python3.10/dist-packages/cvxpy/expressions/constants/constant.py:53: UserWarning: Initializing a Constant with a nested list is undefined behavior. Consider using a numpy array instead.\n",
            "  warnings.warn(NESTED_LIST_WARNING)\n"
          ]
        }
      ]
    },
    {
      "cell_type": "code",
      "source": [
        "import cvxpy as cvx\n",
        "#definir variables a optimizar\n",
        "arr_x = cvx.Variable((2,1))\n",
        "#arreglo de costos\n",
        "arr_c = [[5],[3]]\n",
        "#funcion obje\n",
        "fun = cvx.Minimize(arr_c @ arr_x)\n",
        "#arreglo matricial coeficientes tecnicos\n",
        "arr_tec = [[3,-11,1,0],[7,-13,0,1]]\n",
        "#arreglo condiciones\n",
        "arr_cond = [[29,-151,0,0]\n",
        "#restricciones\n",
        "arre_rest = [arr_tec @ arr_x >= arr_cond]\n",
        "#configurar problema\n",
        "probl = cvx.Problem(fun,arre_rest)\n",
        "probl.solve()\n",
        "print(\"%.2f\"%probl.value,\"\\n\")arr"
      ],
      "metadata": {
        "id": "ZrfjbjQI-Cgx"
      },
      "execution_count": null,
      "outputs": []
    },
    {
      "cell_type": "code",
      "source": [
        "import cvxpy as cvx\n",
        "#definir variables de desicion y no negatividad\n",
        "x = cvx.Variable(nonneg = True)\n",
        "y= cvx.Variable(nonneg= True)\n",
        "\n",
        "#definir funcion objetivo\n",
        "funobj = cvx.Maximize(3*x + 2*y)\n",
        "#definir restricciones\n",
        "rest = [\n",
        "    2*x + y >= 20,\n",
        "    4*x +3*y <= 50\n",
        "    ]\n",
        "#configurar funcion problema\n",
        "problema = cvx.Problem(funobj, rest)\n",
        "#valor optimo de la fucion\n",
        "problema.solve()\n",
        "print(\"%.2f\"% problema.value)"
      ],
      "metadata": {
        "colab": {
          "base_uri": "https://localhost:8080/"
        },
        "id": "MydfkCiZ2DbP",
        "outputId": "625954e9-9ea1-4499-8583-3c0374daafcc"
      },
      "execution_count": null,
      "outputs": [
        {
          "output_type": "stream",
          "name": "stdout",
          "text": [
            "37.50\n"
          ]
        }
      ]
    },
    {
      "cell_type": "code",
      "source": [
        "import cvxpy as cvx\n",
        "#definir variables de desicion y no negatividad\n",
        "x = cvx.Variable(nonneg = True)\n",
        "y= cvx.Variable(nonneg= True)\n",
        "\n",
        "#definir funcion objetivo\n",
        "funobj = cvx.Maximize(3*x + 2*y)\n",
        "#definir restricciones\n",
        "rest = [\n",
        "    2*x + y <= 20,\n",
        "    4*x +3*y <= 50\n",
        "    ]\n",
        "#configurar funcion problema\n",
        "problema = cvx.Problem(funobj, rest)\n",
        "#valor optimo de la fucion\n",
        "problema.solve()\n",
        "print(\"%.2f\"% problema.value)"
      ],
      "metadata": {
        "colab": {
          "base_uri": "https://localhost:8080/"
        },
        "id": "TcRgMVKQ2mHt",
        "outputId": "604a7576-99da-4819-8c70-48fa8f1ac073"
      },
      "execution_count": null,
      "outputs": [
        {
          "output_type": "stream",
          "name": "stdout",
          "text": [
            "35.00\n"
          ]
        }
      ]
    },
    {
      "cell_type": "code",
      "source": [
        "import cvxpy as cvx\n",
        "#variables de desicion y no negatividad\n",
        "x = cvx.Variable(nonneg = True)\n",
        "y = cvx.Variable(nonneg = True)\n",
        "\n",
        "#definir funcion objetivo\n",
        "\n",
        "fobj = cvx.Maximize (3*x + 2*y)\n",
        "#establecer restriciones\n",
        "restricciones = [\n",
        "   -2*x - y >= -20,\n",
        "    -4*x - 3*y >= -50,\n",
        "\n",
        "]\n",
        "problema = cvx.Problem(fobj,restricciones)\n",
        "#obtener valor optimo\n",
        "problema.solve()\n",
        "\n",
        "print(\"Estado de la solución:\", problema.status)\n",
        "print(\"Valor óptimo de la función objetivo:\", problema.value)\n",
        "print(\"Valores óptimos de las variables de decisión:\", x.value, y.value)\n",
        "\n"
      ],
      "metadata": {
        "colab": {
          "base_uri": "https://localhost:8080/"
        },
        "id": "OX83CSvTbH8Q",
        "outputId": "587f191a-a2e7-4669-aa9f-5aadb7863561"
      },
      "execution_count": null,
      "outputs": [
        {
          "output_type": "stream",
          "name": "stdout",
          "text": [
            "Estado de la solución: optimal\n",
            "Valor óptimo de la función objetivo: 34.99999999602156\n",
            "Valores óptimos de las variables de decisión: 4.9999999938495945 10.000000007236386\n"
          ]
        }
      ]
    },
    {
      "cell_type": "code",
      "source": [
        "import cvxpy as cvx\n",
        "\n",
        "#definir variables de desicion y no negatividad\n",
        "x = cvx.Variable(nonneg = True)\n",
        "y = cvx.Variable(nonneg = True)\n",
        "# definir funcion objetivo\n",
        "\n",
        "fobj = cvx.Maximize(3*x + 2*y)\n",
        "# definir restricciones\n",
        "restri = [\n",
        "    2*x + y <= 14,\n",
        "    -4*x + 5*y <= 3,\n",
        "    x + 2*y <= 10,\n",
        "]\n",
        "\n",
        "# configuarar el problema\n",
        "\n",
        "problem = cvx.Problem(fobj, restri)\n",
        "\n",
        "#obtener el valor optimo\n",
        "problem.solve()\n",
        "\n",
        "#mostrar el estado de la solucion\n",
        "print(\"estado de la solucion es\", problem.status)\n",
        "#mostrar el valor optimo de la funcion objetivo\n",
        "print(\"estado de la funcion objetivo\", problem.value)\n",
        "#mostrar valor optimo de las variables de desicion\n",
        "print(\"estado optimo de las variales\", x.value, y.value)\n"
      ],
      "metadata": {
        "colab": {
          "base_uri": "https://localhost:8080/"
        },
        "id": "VPQeiPKFRrUF",
        "outputId": "843d9f58-c46e-40f7-8fdc-93fc9195c637"
      },
      "execution_count": null,
      "outputs": [
        {
          "output_type": "stream",
          "name": "stdout",
          "text": [
            "estado de la solucion es optimal\n",
            "estado de la funcion objetivo 21.999999994728487\n",
            "estado optimo de las variales 6.000000000686225 1.9999999963349053\n"
          ]
        }
      ]
    },
    {
      "cell_type": "code",
      "source": [
        "import numpy as np\n",
        "import cvxpy as cvx\n",
        "\n",
        "arrx = cvx.Variable((2,1))\n",
        "arrc = np.array([5,3])\n",
        "\n",
        "fun = cvx.Maximize(arrc @ arrx)\n",
        "arrtec = np.array([[3,7],[-11,-5],[1,0],[0,1]])\n",
        "\n",
        "arreres = np.array([[57],[-151],[0],[0]])\n",
        "res = [arrtec @ arrx >= arreres]\n",
        "\n",
        "prob = cvx.Problem(fun, res)\n",
        "prob.solve()\n",
        "holg = arrtec[0] @ arrx.value - 57\n",
        "print(\"%.4f\"% holg)"
      ],
      "metadata": {
        "colab": {
          "base_uri": "https://localhost:8080/"
        },
        "id": "7y4dr45jHWMD",
        "outputId": "c661301d-0e45-4cd2-a57f-8412711f51ec"
      },
      "execution_count": 2,
      "outputs": [
        {
          "output_type": "stream",
          "name": "stdout",
          "text": [
            "154.3999\n"
          ]
        },
        {
          "output_type": "stream",
          "name": "stderr",
          "text": [
            "<ipython-input-2-47de160d1092>:16: DeprecationWarning: Conversion of an array with ndim > 0 to a scalar is deprecated, and will error in future. Ensure you extract a single element from your array before performing this operation. (Deprecated NumPy 1.25.)\n",
            "  print(\"%.4f\"% holg)\n"
          ]
        }
      ]
    }
  ]
}